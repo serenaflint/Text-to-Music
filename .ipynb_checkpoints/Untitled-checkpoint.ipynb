{
 "cells": [
  {
   "cell_type": "markdown",
   "metadata": {},
   "source": [
    "##### Imports"
   ]
  },
  {
   "cell_type": "code",
   "execution_count": null,
   "metadata": {},
   "outputs": [],
   "source": [
    "from __future__ import division\n",
    "import math\n",
    "import pyaudio"
   ]
  },
  {
   "cell_type": "markdown",
   "metadata": {},
   "source": [
    "##### Methods"
   ]
  },
  {
   "cell_type": "code",
   "execution_count": 46,
   "metadata": {},
   "outputs": [],
   "source": [
    "def play_note(INPUT_NOTE, INPUT_TIME):\n",
    "    BITS_PER_BYTE = 8.0  # for clarity\n",
    "    SAMPLE_BIT_DEPTH = 8.0  # i.e. each sample is 1 byte\n",
    "    SAMPLES_PER_SECOND = 16000\n",
    "    NOTE_TIME_SECONDS = INPUT_TIME\n",
    "    \n",
    "    CYCLES_PER_SECOND = SAMPLES_PER_SECOND / INPUT_NOTE\n",
    "    NUM_SAMPLES = SAMPLES_PER_SECOND * NOTE_TIME_SECONDS\n",
    "    audio = pyaudio.PyAudio()\n",
    "\n",
    "    stream = audio.open(\n",
    "        format=audio.get_format_from_width((SAMPLE_BIT_DEPTH / BITS_PER_BYTE)),\n",
    "        channels=1,\n",
    "        rate=SAMPLES_PER_SECOND,\n",
    "        output=True,\n",
    "    )\n",
    "\n",
    "    byte_array = bytearray()\n",
    "\n",
    "    for i in range(NUM_SAMPLES):\n",
    "        # calculate the amplitude for this frame as a float between -1 and 1\n",
    "        frame_amplitude = math.sin(i / (CYCLES_PER_SECOND / math.pi))\n",
    "        # scale the amplitude to an integer between 0 and 255 (inclusive)\n",
    "        scaled_amplitude = int(frame_amplitude * 127 + 128)\n",
    "        # convert amplitude to byte string (ascii value)\n",
    "        byte_array.append(scaled_amplitude)\n",
    "\n",
    "    stream.write(bytes(byte_array))\n",
    "    stream.close()\n",
    "    audio.terminate()\n",
    "    \n",
    "#reads a configuration file for note names and frequencies\n",
    "def read_config(file):\n",
    "    #importing note config file\n",
    "    with open(file, \"r\") as file:\n",
    "        config = file.readlines()\n",
    "        file.close()\n",
    "    \n",
    "    #stripping \\n tags\n",
    "    data = [x.strip() for x in config]\n",
    "    return data\n",
    "\n",
    "#creates the dictionary of note-frequency pairs\n",
    "def create_dict(config):\n",
    "    notes_temp = []\n",
    "    note_pairs = {}\n",
    "\n",
    "    #splits into [note,frequency]\n",
    "    for i in range(0,len(config)):\n",
    "        notes_temp.append(config[i].split(\":\"))\n",
    "\n",
    "    #creates dictionaries and adds to list\n",
    "    for j in range(0,len(config)):\n",
    "        for k in range(0,2):\n",
    "            #storing key and value for this index\n",
    "            key = notes_temp[j][0]\n",
    "            value = (notes_temp[j][1])\n",
    "        #hopefully adding the dictionary element\n",
    "        note_pairs[key] = value\n",
    "        \n",
    "    return note_pairs\n",
    "\n",
    "#converts note name to frequency using the dictionary\n",
    "def convert(note_name, book):\n",
    "    return float(book.get(note_name))"
   ]
  },
  {
   "cell_type": "code",
   "execution_count": 39,
   "metadata": {},
   "outputs": [
    {
     "name": "stdout",
     "output_type": "stream",
     "text": [
      "{'C2': '65.41', 'C#2': '69.30', 'D2': '73.42', 'D#2': '77.78', 'E2': '82.41', 'F2': '87.31', 'F#2': '92.50', 'G2': '98.00', 'G#2': '103.83', 'A2': '110.00', 'A#2': '116.54', 'B2': '123.47', 'C3': '130.81', 'C#3': '138.59', 'D3': '146.83', 'D#3': '155.56', 'E3': '164.81', 'F3': '174.61', 'F#3': '185.00', 'G3': '196.00', 'G#3': '207.65', 'A3': '220.00', 'A#3': '233.08', 'B3': '246.94', 'C4': '261.63', 'C#4': '277.18', 'D4': '293.66', 'D#4': '311.13', 'E4': '329.63', 'F4': '349.23', 'F#4': '369.99', 'G4': '392.00', 'G#4': '415.30', 'A4': '440.00', 'A#4': '466.16', 'B4': '493.88', 'C5': '523.25', 'C#5': '554.37', 'D5': '587.33', 'D#5': '622.25', 'E5': '659.25', 'F5': '698.46', 'F#5': '739.99', 'G5': '783.99', 'G#5': '830.61', 'A5': '880.00', 'A#5': '932.33', 'B5': '987.77', 'C6': '1046.50', 'C#6': '1108.73', 'D6': '1174.66', 'D#6': '1244.51', 'E6': '1318.51', 'F6': '1396.91', 'F#6': '1479.98', 'G6': '1567.98', 'G#6': '1661.22', 'A6': '1760.00', 'A#6': '1864.66', 'B6': '1975.53', 'C7': '2093.00'}\n"
     ]
    }
   ],
   "source": [
    "note_data = read_config(\"note_config.txt\");\n",
    "pairs = create_dict(note_data);\n",
    "\n",
    "print(pairs)"
   ]
  },
  {
   "cell_type": "code",
   "execution_count": 45,
   "metadata": {},
   "outputs": [],
   "source": [
    "play_note(float(pairs.get('C5')),1)\n",
    "play_note(float(pairs.get('C#5')),1)\n",
    "play_note(float(pairs.get('D5')), 1)"
   ]
  },
  {
   "cell_type": "code",
   "execution_count": null,
   "metadata": {},
   "outputs": [],
   "source": [
    "play_note(523.25,1)\n",
    "play_note(587.33,1)\n",
    "play_note(659.25,1)\n",
    "play_note(698.46,1)\n",
    "play_note(783.99,1)\n",
    "play_note(880.00,1)\n",
    "play_note(987.77,1)\n",
    "play_note(1046.50,1)\n",
    "play_note(987.77,1)\n",
    "play_note(880.00,1)\n",
    "play_note(783.99,1)\n",
    "play_note(698.46,1)\n",
    "play_note(659.25,1)\n",
    "play_note(587.33,1)\n",
    "play_note(523.25,1)"
   ]
  }
 ],
 "metadata": {
  "kernelspec": {
   "display_name": "Python 3",
   "language": "python",
   "name": "python3"
  },
  "language_info": {
   "codemirror_mode": {
    "name": "ipython",
    "version": 3
   },
   "file_extension": ".py",
   "mimetype": "text/x-python",
   "name": "python",
   "nbconvert_exporter": "python",
   "pygments_lexer": "ipython3",
   "version": "3.7.1"
  }
 },
 "nbformat": 4,
 "nbformat_minor": 2
}
