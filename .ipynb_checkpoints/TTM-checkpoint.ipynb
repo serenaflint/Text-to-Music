{
 "cells": [
  {
   "cell_type": "markdown",
   "metadata": {},
   "source": [
    "##### Imports"
   ]
  },
  {
   "cell_type": "code",
   "execution_count": 255,
   "metadata": {},
   "outputs": [],
   "source": [
    "from __future__ import division\n",
    "import math\n",
    "import pyaudio\n",
    "import numpy as np\n",
    "from midiutil import MIDIFile\n",
    "import copy\n",
    "import operator\n",
    "from collections import deque"
   ]
  },
  {
   "cell_type": "markdown",
   "metadata": {},
   "source": [
    "##### Methods"
   ]
  },
  {
   "cell_type": "code",
   "execution_count": 276,
   "metadata": {},
   "outputs": [],
   "source": [
    "def play_note(INPUT_NOTE, INPUT_TIME):\n",
    "    SAMPLES_PER_SECOND = 44100\n",
    "    NOTE_TIME_SECONDS = INPUT_TIME\n",
    "    \n",
    "    CYCLES_PER_SECOND = SAMPLES_PER_SECOND / INPUT_NOTE\n",
    "    NUM_SAMPLES = SAMPLES_PER_SECOND * NOTE_TIME_SECONDS\n",
    "    audio = pyaudio.PyAudio()\n",
    "    \n",
    "    stream = audio.open(\n",
    "        format=pyaudio.paFloat32,\n",
    "        channels=1,\n",
    "        rate=SAMPLES_PER_SECOND,\n",
    "        output=True,\n",
    "    )\n",
    "    \n",
    "    samples = (np.sin(2*np.pi*np.arange(SAMPLES_PER_SECOND*INPUT_TIME)*INPUT_NOTE/SAMPLES_PER_SECOND)).astype(np.float32)\n",
    "    \n",
    "    stream = audio.open(\n",
    "        format=pyaudio.paFloat32,\n",
    "        channels=1,\n",
    "        rate=SAMPLES_PER_SECOND,\n",
    "        output=True,\n",
    "    )\n",
    "\n",
    "    byte_array = bytearray()\n",
    "    \n",
    "    chunks = samples\n",
    "    fade = 2000\n",
    "\n",
    "    fade_in = np.arange(0., 1., 1/fade)\n",
    "    fade_out = np.arange(1., 0., -1/fade)\n",
    "    \n",
    "    samples[:fade] = np.multiply(samples[:fade], fade_in)\n",
    "    samples[-fade:] = np.multiply(samples[-fade:], fade_out)\n",
    "\n",
    "    stream.write(samples.astype(np.float32).tobytes())\n",
    "    #stream.close()\n",
    "    #audio.terminate()\n",
    "    \n",
    "#reads a configuration file for note names and frequencies\n",
    "def read_config(file):\n",
    "    #importing note config file\n",
    "    with open(file, \"r\") as file:\n",
    "        config = file.readlines()\n",
    "        file.close()\n",
    "    \n",
    "    #stripping \\n tags\n",
    "    data = [x.strip() for x in config]\n",
    "    return data\n",
    "\n",
    "#creates the dictionary of note-frequency pairs\n",
    "def create_dict(config):\n",
    "    notes_temp = []\n",
    "    note_pairs = {}\n",
    "\n",
    "    #splits into [note,frequency]\n",
    "    for i in range(0,len(config)):\n",
    "        notes_temp.append(config[i].split(\":\"))\n",
    "\n",
    "    #creates dictionaries and adds to list\n",
    "    for j in range(0,len(config)):\n",
    "        for k in range(0,2):\n",
    "            #storing key and value for this index\n",
    "            key = notes_temp[j][0]\n",
    "            value = (notes_temp[j][1])\n",
    "        #hopefully adding the dictionary element\n",
    "        note_pairs[key] = value\n",
    "        \n",
    "    return note_pairs\n",
    "\n",
    "#converts note name to frequency using the dictionary\n",
    "def convert(note_name, book):\n",
    "    return float(book.get(note_name))\n",
    "\n",
    "def random_key_sig(full_map):\n",
    "    major_steps = [2,2,1,2,2,2,1]\n",
    "    minor_steps = [2,1,2,2,1,2,2]\n",
    "    \n",
    "    #choosing a random scale to use\n",
    "    scales = [major_steps,minor_steps]\n",
    "    seed = np.random.randint(0,11)\n",
    "    \n",
    "    if(np.random.choice([0,1]) == 0):\n",
    "        choice = major_steps\n",
    "    else:\n",
    "        choice = minor_steps\n",
    "    \n",
    "    key_notes = []\n",
    "    idx = seed\n",
    "    ex_count = 0\n",
    "    key_notes.append(idx)\n",
    "    \n",
    "    #generating indicies of appropriate notes in key signature\n",
    "    while(max(key_notes)<len(full_map)-2):\n",
    "        if(ex_count == len(choice)):\n",
    "            ex_count = 0\n",
    "            \n",
    "        idx+=choice[ex_count]\n",
    "        ex_count+=1\n",
    "        \n",
    "        key_notes.append(idx)\n",
    "    \n",
    "    new_list = []\n",
    "    full_copy = copy.deepcopy(full_map)\n",
    "    \n",
    "    #generating list of only notes in key_signature\n",
    "    keys_list = list(full_copy.keys())\n",
    "    for i in range(0,len(key_notes)):\n",
    "        new_list.append(keys_list[int(key_notes[i])])\n",
    "    #print(new_list)\n",
    "    \n",
    "    new_dict = {}\n",
    "    new_freq = []\n",
    "    \n",
    "    #getting associated frequencies to key signature notes\n",
    "    for j in new_list:\n",
    "        new_freq.append(full_map.get(j))\n",
    "        \n",
    "    #putting together the dictionary\n",
    "    for k, val in enumerate(new_list,0):\n",
    "        key = val\n",
    "        value = new_freq[k]\n",
    "        new_dict[key] = value\n",
    "        \n",
    "    return new_dict"
   ]
  },
  {
   "cell_type": "code",
   "execution_count": 277,
   "metadata": {},
   "outputs": [
    {
     "data": {
      "text/plain": [
       "33"
      ]
     },
     "execution_count": 277,
     "metadata": {},
     "output_type": "execute_result"
    }
   ],
   "source": [
    "bobert = random_key_sig(pairs)\n",
    "\n",
    "len(bobert)"
   ]
  },
  {
   "cell_type": "code",
   "execution_count": 245,
   "metadata": {
    "scrolled": false
   },
   "outputs": [
    {
     "name": "stdout",
     "output_type": "stream",
     "text": [
      "{'C2': '65.41', 'C#2': '69.30', 'D2': '73.42', 'D#2': '77.78', 'E2': '82.41', 'F2': '87.31', 'F#2': '92.50', 'G2': '98.00', 'G#2': '103.83', 'A2': '110.00', 'A#2': '116.54', 'B2': '123.47', 'C3': '130.81', 'C#3': '138.59', 'D3': '146.83', 'D#3': '155.56', 'E3': '164.81', 'F3': '174.61', 'F#3': '185.00', 'G3': '196.00', 'G#3': '207.65', 'A3': '220.00', 'A#3': '233.08', 'B3': '246.94', 'C4': '261.63', 'C#4': '277.18', 'D4': '293.66', 'D#4': '311.13', 'E4': '329.63', 'F4': '349.23', 'F#4': '369.99', 'G4': '392.00', 'G#4': '415.30', 'A4': '440.00', 'A#4': '466.16', 'B4': '493.88', 'C5': '523.25', 'C#5': '554.37', 'D5': '587.33', 'D#5': '622.25', 'E5': '659.25', 'F5': '698.46', 'F#5': '739.99', 'G5': '783.99', 'G#5': '830.61', 'A5': '880.00', 'A#5': '932.33', 'B5': '987.77', 'C6': '1046.50', 'C#6': '1108.73', 'D6': '1174.66', 'D#6': '1244.51', 'E6': '1318.51', 'F6': '1396.91', 'F#6': '1479.98', 'G6': '1567.98', 'G#6': '1661.22', 'A6': '1760.00', 'A#6': '1864.66', 'B6': '1975.53', 'C7': '2093.00'}\n"
     ]
    }
   ],
   "source": [
    "note_data = read_config(\"note_config.txt\");\n",
    "pairs = create_dict(note_data);\n",
    "\n",
    "print(pairs)"
   ]
  },
  {
   "cell_type": "code",
   "execution_count": 280,
   "metadata": {},
   "outputs": [
    {
     "name": "stdout",
     "output_type": "stream",
     "text": [
      "['\\n', ' ', 'a', 'b', 'c', 'd', 'e', 'f', 'g', 'h', 'i', 'j', 'k', 'l', 'm', 'n', 'o', 'p', 'q', 'r', 's', 't', 'u', 'v', 'w', 'x', 'y', 'z']\n",
      "28\n"
     ]
    }
   ],
   "source": [
    "file = \"scp761-dh.txt\"\n",
    "raw_text_c = open(file, 'r', encoding='utf-8').read()\n",
    "\n",
    "clean_text_c = raw_text_c.replace('\\xa0',' ')\n",
    "clean_text_c = clean_text_c.lower()\n",
    "\n",
    "reject_chars = ['€','é','î','³','•','▸','◂','|','°','º','»',\n",
    "                '«','…','>','<','—','‘','’','“','”','–','~',\n",
    "                '^', '$', '+','█','-',\"'\",',','.','/','?',';',':',\n",
    "               '1','2','3','4','5','6','7','8','9','0','#']\n",
    "\n",
    "for i in reject_chars:\n",
    "    clean_text_c = clean_text_c.replace(i, '')\n",
    "    \n",
    "chars = sorted(list(set(clean_text_c)))\n",
    "\n",
    "print(chars)\n",
    "print(len(chars))"
   ]
  },
  {
   "cell_type": "code",
   "execution_count": 166,
   "metadata": {},
   "outputs": [],
   "source": [
    "def random_char_map(char_set, note_dict):\n",
    "    stack = []\n",
    "    new_pairs = {}\n",
    "    \n",
    "    #creates stack of useable frequencies\n",
    "    for i in note_dict:\n",
    "        stack.append(note_dict[i])\n",
    "          \n",
    "    #creates dictionary of char-note pairs\n",
    "    for j in char_set:\n",
    "        key = j\n",
    "        value = stack.pop(np.random.randint(0,len(stack)))\n",
    "        new_pairs[key] = value\n",
    "        \n",
    "    return new_pairs"
   ]
  },
  {
   "cell_type": "code",
   "execution_count": 281,
   "metadata": {},
   "outputs": [
    {
     "name": "stdout",
     "output_type": "stream",
     "text": [
      "{'\\n': '622.25', ' ': '1975.53', 'a': '1864.66', 'b': '1318.51', 'c': '1174.66', 'd': '466.16', 'e': '77.78', 'f': '123.47', 'g': '1046.50', 'h': '987.77', 'i': '155.56', 'j': '82.41', 'k': '164.81', 'l': '130.81', 'm': '1244.51', 'n': '69.30', 'o': '103.83', 'p': '261.63', 'q': '73.42', 'r': '739.99', 's': '1760.00', 't': '207.65', 'u': '185.00', 'v': '220.00', 'w': '1567.98', 'x': '196.00', 'y': '233.08', 'z': '659.25'}\n",
      "\n",
      " {'\\n': '1318.51', ' ': '2093.00', 'a': '98.00', 'b': '1864.66', 'c': '1174.66', 'd': '587.33', 'e': '233.08', 'f': '220.00', 'g': '329.63', 'h': '164.81', 'i': '196.00', 'j': '880.00', 'k': '659.25', 'l': '1396.91', 'm': '1567.98', 'n': '261.63', 'o': '116.54', 'p': '1046.50', 'q': '698.46', 'r': '293.66', 's': '349.23', 't': '110.00', 'u': '523.25', 'v': '932.33', 'w': '130.81', 'x': '440.00', 'y': '392.00', 'z': '87.31'}\n"
     ]
    }
   ],
   "source": [
    "mappo = random_char_map(chars,pairs)\n",
    "print(mappo)\n",
    "\n",
    "mappo2 = random_char_map(chars,random_key_sig(pairs))\n",
    "\n",
    "print('\\n', mappo2)"
   ]
  },
  {
   "cell_type": "code",
   "execution_count": 288,
   "metadata": {},
   "outputs": [],
   "source": [
    "def freq_to_midnum(freq):\n",
    "    note = 12*np.log2(freq/(440/32))+9\n",
    "    return int(round(note))\n",
    "    \n",
    "def text_to_music(input_str,final_map):\n",
    "    char_arr = list(input_str)\n",
    "    lengths = [0.25,0.5,0.75,1.0]\n",
    "    \n",
    "    midnum_arr = []\n",
    "    length_arr = []\n",
    "    \n",
    "    for i in range(0,500):\n",
    "        length = np.random.choice(lengths)\n",
    "        #play_note(convert(char_arr[i],final_map),length)\n",
    "        midnum_arr.append(freq_to_midnum(convert(char_arr[i],final_map)))\n",
    "        length_arr.append(length)\n",
    "        \n",
    "    return midnum_arr, length_arr\n",
    "        \n",
    "def music_to_midi(degree_arr,dur_arr,file):\n",
    "    \n",
    "    track = 0\n",
    "    channel = 0\n",
    "    time = 0\n",
    "    tempo = np.random.randint(100,160)\n",
    "    volume = 100\n",
    "    \n",
    "    MyMIDI = MIDIFile(1)\n",
    "    MyMIDI.addTempo(track,time,tempo)\n",
    "    \n",
    "    for i, pitch in enumerate(degree_arr):\n",
    "        MyMIDI.addNote(track,channel,pitch,time+i,dur_arr[0 + i],volume)\n",
    "        \n",
    "    with open(file, \"wb\") as output_file:\n",
    "        MyMIDI.writeFile(output_file)"
   ]
  },
  {
   "cell_type": "code",
   "execution_count": 289,
   "metadata": {},
   "outputs": [],
   "source": [
    "arr_1, arr_2 = text_to_music(clean_text_c,mappo2)\n",
    "\n",
    "music_to_midi(arr_1, arr_2, \"scp-keysig.mid\")"
   ]
  },
  {
   "cell_type": "code",
   "execution_count": null,
   "metadata": {},
   "outputs": [],
   "source": []
  }
 ],
 "metadata": {
  "kernelspec": {
   "display_name": "Python 3",
   "language": "python",
   "name": "python3"
  },
  "language_info": {
   "codemirror_mode": {
    "name": "ipython",
    "version": 3
   },
   "file_extension": ".py",
   "mimetype": "text/x-python",
   "name": "python",
   "nbconvert_exporter": "python",
   "pygments_lexer": "ipython3",
   "version": "3.7.1"
  }
 },
 "nbformat": 4,
 "nbformat_minor": 2
}
